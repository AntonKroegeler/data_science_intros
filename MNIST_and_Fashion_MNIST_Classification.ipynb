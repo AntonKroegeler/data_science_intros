{
  "nbformat": 4,
  "nbformat_minor": 0,
  "metadata": {
    "colab": {
      "name": "MNIST and Fashion MNIST Classification (Solution).ipynb",
      "provenance": [],
      "collapsed_sections": [],
      "toc_visible": true,
      "include_colab_link": true
    },
    "kernelspec": {
      "display_name": "Python 2",
      "language": "python",
      "name": "python2"
    }
  },
  "cells": [
    {
      "cell_type": "markdown",
      "metadata": {
        "id": "view-in-github",
        "colab_type": "text"
      },
      "source": [
        "<a href=\"https://colab.research.google.com/github/JasperLS/data_science_intros/blob/main/MNIST_and_Fashion_MNIST_Classification.ipynb\" target=\"_parent\"><img src=\"https://colab.research.google.com/assets/colab-badge.svg\" alt=\"Open In Colab\"/></a>"
      ]
    },
    {
      "cell_type": "markdown",
      "metadata": {
        "id": "fNQ1UckPS99F"
      },
      "source": [
        "# MNIST & Fashion MNIST Classification Notebook\n",
        "This notebook is losely based on the example provided at https://victorzhou.com/blog/keras-neural-network-tutorial/: \n",
        "\n",
        "MNIST is publicly available image data set which consists of 28 by 28 pixels image of hand-written single digits. So each image in MNIST is an image of a digit from 0 to 9. MNIST challenge is to develop a machine learning algorithm that can classify these images into 10 classes (0 to 9).\n",
        "\n",
        "Fashion-MNIST is a dataset of Zalando's article images—consisting of a training set of 60,000 examples and a test set of 10,000 examples. Each example is a 28x28 grayscale image, associated with a label from 10 classes. "
      ]
    },
    {
      "cell_type": "markdown",
      "metadata": {
        "id": "Z78pX8IjiBjr"
      },
      "source": [
        "## Setup"
      ]
    },
    {
      "cell_type": "code",
      "metadata": {
        "id": "sl2oW1o-gPl6",
        "outputId": "4eb2694e-3027-4572-a95e-3901242f2771",
        "colab": {
          "base_uri": "https://localhost:8080/"
        }
      },
      "source": [
        "!pip install mnist"
      ],
      "execution_count": 1,
      "outputs": [
        {
          "output_type": "stream",
          "text": [
            "Collecting mnist\n",
            "  Downloading https://files.pythonhosted.org/packages/c6/c4/5db3bfe009f8d71f1d532bbadbd0ec203764bba3a469e4703a889db8e5e0/mnist-0.2.2-py2.py3-none-any.whl\n",
            "Requirement already satisfied: mock; python_version == \"2.7\" in /usr/local/lib/python2.7/dist-packages (from mnist) (2.0.0)\n",
            "Requirement already satisfied: numpy in /usr/local/lib/python2.7/dist-packages (from mnist) (1.16.4)\n",
            "Requirement already satisfied: funcsigs>=1; python_version < \"3.3\" in /usr/local/lib/python2.7/dist-packages (from mock; python_version == \"2.7\"->mnist) (1.0.2)\n",
            "Requirement already satisfied: six>=1.9 in /usr/local/lib/python2.7/dist-packages (from mock; python_version == \"2.7\"->mnist) (1.15.0)\n",
            "Requirement already satisfied: pbr>=0.11 in /usr/local/lib/python2.7/dist-packages (from mock; python_version == \"2.7\"->mnist) (5.4.0)\n",
            "Installing collected packages: mnist\n",
            "Successfully installed mnist-0.2.2\n"
          ],
          "name": "stdout"
        }
      ]
    },
    {
      "cell_type": "code",
      "metadata": {
        "id": "8fPVR2wjhLqr"
      },
      "source": [
        "import numpy as np\n",
        "import mnist\n",
        "from tensorflow import keras\n",
        "from tensorflow.keras.models import Sequential\n",
        "from tensorflow.keras.layers import Dense,Conv2D,MaxPooling2D,Flatten\n",
        "from tensorflow.keras.utils import to_categorical"
      ],
      "execution_count": 2,
      "outputs": []
    },
    {
      "cell_type": "code",
      "metadata": {
        "id": "ZFfCrGCJ5nV1"
      },
      "source": [
        "train_images = mnist.train_images()\n",
        "train_labels = mnist.train_labels()\n",
        "test_images = mnist.test_images()\n",
        "test_labels = mnist.test_labels()"
      ],
      "execution_count": 3,
      "outputs": []
    },
    {
      "cell_type": "code",
      "metadata": {
        "id": "68kPGl-AJUTM"
      },
      "source": [
        "test_images.shape\n",
        "import pandas as pd\n",
        "print(pd.Series(test_labels).loc[test_labels == 4].sample(4))\n",
        "from matplotlib import pyplot as plt\n",
        "plt.imshow(test_images[95])\n"
      ],
      "execution_count": null,
      "outputs": []
    },
    {
      "cell_type": "code",
      "metadata": {
        "id": "FHi8wQoF0NND"
      },
      "source": [
        "# load alternative fashion mnist dataset\n",
        "import tensorflow as tf\n",
        "fashion_mnist = tf.keras.datasets.fashion_mnist\n",
        "(train_images, train_labels), (test_images, test_labels) = fashion_mnist.load_data()"
      ],
      "execution_count": null,
      "outputs": []
    },
    {
      "cell_type": "markdown",
      "metadata": {
        "id": "8ES1Axj7iMsH"
      },
      "source": [
        "## Understand the Data"
      ]
    },
    {
      "cell_type": "code",
      "metadata": {
        "id": "IUUl3gDJi-Kx",
        "outputId": "3e4df123-aa09-4ade-d925-fe4ccb085180",
        "colab": {
          "base_uri": "https://localhost:8080/"
        }
      },
      "source": [
        "# how many examples do we have?\n",
        "print(len(train_images))\n",
        "print(len(train_labels))"
      ],
      "execution_count": 15,
      "outputs": [
        {
          "output_type": "stream",
          "text": [
            "60000\n",
            "60000\n"
          ],
          "name": "stdout"
        }
      ]
    },
    {
      "cell_type": "code",
      "metadata": {
        "id": "TnyDFPccIymb",
        "outputId": "fdea02ed-0e7d-4857-c4db-250e751be372",
        "colab": {
          "base_uri": "https://localhost:8080/"
        }
      },
      "source": [
        "train_labels.shape"
      ],
      "execution_count": 16,
      "outputs": [
        {
          "output_type": "execute_result",
          "data": {
            "text/plain": [
              "(60000,)"
            ]
          },
          "metadata": {
            "tags": []
          },
          "execution_count": 16
        }
      ]
    },
    {
      "cell_type": "code",
      "metadata": {
        "id": "MaQsOC7BiUPy",
        "outputId": "d8a9f0dd-b24b-4c88-87f3-bb5900fe701c",
        "colab": {
          "base_uri": "https://localhost:8080/"
        }
      },
      "source": [
        "# what resolution do our images have?\n",
        "train_images.shape"
      ],
      "execution_count": 17,
      "outputs": [
        {
          "output_type": "execute_result",
          "data": {
            "text/plain": [
              "(60000, 28, 28)"
            ]
          },
          "metadata": {
            "tags": []
          },
          "execution_count": 17
        }
      ]
    },
    {
      "cell_type": "code",
      "metadata": {
        "id": "jKiD8ZBicg0C",
        "outputId": "d5491176-4bf8-4a7c-8595-6929d9a47663",
        "colab": {
          "base_uri": "https://localhost:8080/"
        }
      },
      "source": [
        "np.random.randn(4,4).reshape((-1,8)).flatten().mean()"
      ],
      "execution_count": 44,
      "outputs": [
        {
          "output_type": "execute_result",
          "data": {
            "text/plain": [
              "-0.06806993018547927"
            ]
          },
          "metadata": {
            "tags": []
          },
          "execution_count": 44
        }
      ]
    },
    {
      "cell_type": "code",
      "metadata": {
        "id": "xrRpVt-FizYx"
      },
      "source": [
        "# let's look at some examples\n",
        "from matplotlib import pyplot as plt\n",
        "num = 132\n",
        "print('Label:',train_labels[num])\n",
        "plt.imshow(train_images[num])\n",
        "plt.show()"
      ],
      "execution_count": null,
      "outputs": []
    },
    {
      "cell_type": "code",
      "metadata": {
        "id": "HCKQgmVQjoEg"
      },
      "source": [
        "# how many do we have of each example?\n",
        "np.unique(train_labels, return_counts=True)"
      ],
      "execution_count": null,
      "outputs": []
    },
    {
      "cell_type": "code",
      "metadata": {
        "id": "_77Auz8jnGbf"
      },
      "source": [
        "# how is our image data represented?\n",
        "np.unique(train_images)"
      ],
      "execution_count": null,
      "outputs": []
    },
    {
      "cell_type": "markdown",
      "metadata": {
        "id": "KGvVYkgQiRYo"
      },
      "source": [
        "## Data Preparation"
      ]
    },
    {
      "cell_type": "code",
      "metadata": {
        "id": "WyFEyFpxjjGF"
      },
      "source": [
        "# normalize the images\n",
        "train_images = (train_images-train_images.mean())/train_images.std()\n",
        "test_images = (test_images-train_images.mean())/train_images.std()"
      ],
      "execution_count": 21,
      "outputs": []
    },
    {
      "cell_type": "code",
      "metadata": {
        "id": "nqyb_D83u0SE"
      },
      "source": [
        "# flatten the images\n",
        "train_images = train_images.reshape((-1, 28*28))\n",
        "test_images = test_images.reshape((-1, 28*28))"
      ],
      "execution_count": 22,
      "outputs": []
    },
    {
      "cell_type": "code",
      "metadata": {
        "id": "txBchLoguyLj"
      },
      "source": [
        "# do we need to transform labels (later)?\n",
        "print(to_categorical(train_labels)[:2])\n",
        "(train_labels[:2])"
      ],
      "execution_count": null,
      "outputs": []
    },
    {
      "cell_type": "markdown",
      "metadata": {
        "id": "ffrUd_DGqqqX"
      },
      "source": [
        "## Get the Model"
      ]
    },
    {
      "cell_type": "code",
      "metadata": {
        "id": "XzU0XPuqrH_D",
        "outputId": "4d971698-6a01-46a2-8584-91979a4d71f1",
        "colab": {
          "base_uri": "https://localhost:8080/"
        }
      },
      "source": [
        "# build the model\n",
        "model = Sequential([\n",
        "  Dense(64, activation='relu', input_shape=(784,)),\n",
        "  Dense(64, activation='relu'),\n",
        "  Dense(10, activation='softmax'),\n",
        "])\n",
        "\n",
        "# compile the model\n",
        "model.compile(\n",
        "  optimizer='adam',\n",
        "  loss='categorical_crossentropy', \n",
        "  metrics=['accuracy'],\n",
        ")\n",
        "\n",
        "# let's take a look at our model\n",
        "model.summary()\n",
        "\n",
        "# why do we get the specific number of parameters?"
      ],
      "execution_count": 24,
      "outputs": [
        {
          "output_type": "stream",
          "text": [
            "Model: \"sequential\"\n",
            "_________________________________________________________________\n",
            "Layer (type)                 Output Shape              Param #   \n",
            "=================================================================\n",
            "dense (Dense)                (None, 64)                50240     \n",
            "_________________________________________________________________\n",
            "dense_1 (Dense)              (None, 64)                4160      \n",
            "_________________________________________________________________\n",
            "dense_2 (Dense)              (None, 10)                650       \n",
            "=================================================================\n",
            "Total params: 55,050\n",
            "Trainable params: 55,050\n",
            "Non-trainable params: 0\n",
            "_________________________________________________________________\n"
          ],
          "name": "stdout"
        }
      ]
    },
    {
      "cell_type": "markdown",
      "metadata": {
        "id": "1H8GjzSYuoQR"
      },
      "source": [
        "## Train the Model"
      ]
    },
    {
      "cell_type": "code",
      "metadata": {
        "id": "RXoZkZ2evqkY",
        "outputId": "6afd9b5f-4227-4e1a-de6a-04259af25256",
        "colab": {
          "base_uri": "https://localhost:8080/"
        }
      },
      "source": [
        "model.fit(\n",
        "  train_images,\n",
        "  to_categorical(train_labels),\n",
        "  epochs=5,\n",
        "  batch_size=64,\n",
        "  validation_data=(test_images, to_categorical(test_labels)),\n",
        ")"
      ],
      "execution_count": 25,
      "outputs": [
        {
          "output_type": "stream",
          "text": [
            "Train on 60000 samples, validate on 10000 samples\n",
            "Epoch 1/5\n",
            "60000/60000 [==============================] - 5s 90us/sample - loss: 0.2694 - accuracy: 0.9187 - val_loss: 6.4153 - val_accuracy: 0.9462\n",
            "Epoch 2/5\n",
            "60000/60000 [==============================] - 4s 72us/sample - loss: 0.1226 - accuracy: 0.9629 - val_loss: 6.6602 - val_accuracy: 0.9460\n",
            "Epoch 3/5\n",
            "60000/60000 [==============================] - 4s 72us/sample - loss: 0.0906 - accuracy: 0.9721 - val_loss: 4.8353 - val_accuracy: 0.9648\n",
            "Epoch 4/5\n",
            "60000/60000 [==============================] - 5s 78us/sample - loss: 0.0723 - accuracy: 0.9772 - val_loss: 6.3853 - val_accuracy: 0.9518\n",
            "Epoch 5/5\n",
            "60000/60000 [==============================] - 5s 81us/sample - loss: 0.0615 - accuracy: 0.9807 - val_loss: 7.1102 - val_accuracy: 0.9524\n"
          ],
          "name": "stdout"
        },
        {
          "output_type": "execute_result",
          "data": {
            "text/plain": [
              "<tensorflow.python.keras.callbacks.History at 0x7f5c05cb4950>"
            ]
          },
          "metadata": {
            "tags": []
          },
          "execution_count": 25
        }
      ]
    },
    {
      "cell_type": "markdown",
      "metadata": {
        "id": "6jDf1xVlxLUL"
      },
      "source": [
        "## Evaluate Model"
      ]
    },
    {
      "cell_type": "code",
      "metadata": {
        "id": "03roFy8jgfUm",
        "outputId": "48352bbd-630f-4dd7-c190-9a45d85c1e3e",
        "colab": {
          "base_uri": "https://localhost:8080/"
        }
      },
      "source": [
        "model.evaluate( \n",
        "  test_images, \n",
        "  to_categorical(test_labels)\n",
        ")\n",
        "\n",
        "# # predict on the first 5 test images.\n",
        "# predictions = model.predict(test_images[:5])\n",
        "\n",
        "# # print our model's predictions\n",
        "# print(np.argmax(predictions, axis=1)) \n",
        "\n",
        "# # check our predictions against the ground truths\n",
        "# print(test_labels[:5]) "
      ],
      "execution_count": 28,
      "outputs": [
        {
          "output_type": "stream",
          "text": [
            "10000/10000 [==============================] - 0s 39us/sample - loss: 7.1102 - accuracy: 0.9524\n"
          ],
          "name": "stdout"
        },
        {
          "output_type": "execute_result",
          "data": {
            "text/plain": [
              "[7.1101998102441835, 0.9524]"
            ]
          },
          "metadata": {
            "tags": []
          },
          "execution_count": 28
        }
      ]
    },
    {
      "cell_type": "code",
      "metadata": {
        "id": "Qtf1l7GsmhMi"
      },
      "source": [
        "# wouldn't it be nice to track test loss while training?"
      ],
      "execution_count": null,
      "outputs": []
    },
    {
      "cell_type": "markdown",
      "metadata": {
        "id": "X0v3QSH_dJHE"
      },
      "source": [
        "## Save (and Load) Model"
      ]
    },
    {
      "cell_type": "code",
      "metadata": {
        "id": "_eM3O0gydN--"
      },
      "source": [
        "model.save('mnist_pretrained_model')"
      ],
      "execution_count": null,
      "outputs": []
    },
    {
      "cell_type": "code",
      "metadata": {
        "id": "NMnqYTkafBtv"
      },
      "source": [
        "# It can be used to reconstruct the model identically.\n",
        "reconstructed_model = keras.models.load_model(\"mnist_pretrained_model\")"
      ],
      "execution_count": null,
      "outputs": []
    },
    {
      "cell_type": "code",
      "metadata": {
        "id": "VXw02EtNfw8v",
        "outputId": "05623fce-8bc5-41bd-e26c-a4ed47bd0bb7",
        "colab": {
          "base_uri": "https://localhost:8080/"
        }
      },
      "source": [
        "reconstructed_model.evaluate( \n",
        "  test_images, \n",
        "  to_categorical(test_labels)\n",
        ")\n",
        "\n",
        "# predict on the first 5 test images.\n",
        "predictions = reconstructed_model.predict(test_images[:5])\n",
        "\n",
        "# print our model's predictions\n",
        "print(np.argmax(predictions, axis=1)) \n",
        "\n",
        "# check our predictions against the ground truths\n",
        "print(test_labels[:5]) "
      ],
      "execution_count": null,
      "outputs": [
        {
          "output_type": "stream",
          "text": [
            "10000/10000 [==============================] - 0s 47us/sample - loss: 0.8841 - accuracy: 0.9418\n",
            "[7 2 1 0 4]\n",
            "[7 2 1 0 4]\n"
          ],
          "name": "stdout"
        }
      ]
    },
    {
      "cell_type": "code",
      "metadata": {
        "id": "L6UFLtw9f1dx"
      },
      "source": [
        "reconstructed_model.summary()"
      ],
      "execution_count": null,
      "outputs": []
    },
    {
      "cell_type": "markdown",
      "metadata": {
        "id": "ucWGgYkd1Lw3"
      },
      "source": [
        "## Try Alternative Model incl. CNNs"
      ]
    },
    {
      "cell_type": "markdown",
      "metadata": {
        "id": "Gq-0jtJuBnNI"
      },
      "source": [
        "##### Get Model inlc. CNN"
      ]
    },
    {
      "cell_type": "code",
      "metadata": {
        "id": "blHfeE1z3VRV"
      },
      "source": [
        "model = Sequential([\n",
        "  Conv2D(64, kernel_size=(3,3), activation='relu', input_shape=(28,28,1)),\n",
        "  MaxPooling2D((2,2)),\n",
        "  Flatten(),\n",
        "  Dense(64, activation='relu'),\n",
        "  Dense(64, activation='relu'),\n",
        "  Dense(10, activation='softmax'),\n",
        "])\n",
        "\n",
        "# compile the model\n",
        "model.compile(\n",
        "  optimizer='adam',\n",
        "  loss='categorical_crossentropy', \n",
        "  metrics=['accuracy'],\n",
        ")\n",
        "\n",
        "# let's take a look at our model\n"
      ],
      "execution_count": null,
      "outputs": []
    },
    {
      "cell_type": "markdown",
      "metadata": {
        "id": "-zrOxQU6BsOw"
      },
      "source": [
        "##### Train CNN Model"
      ]
    },
    {
      "cell_type": "code",
      "metadata": {
        "id": "CPoBdXtR8gFC"
      },
      "source": [
        "model.fit(\n",
        "  train_images.reshape(train_images.shape[0],28,28,1),\n",
        "  to_categorical(train_labels),\n",
        "  epochs=5,\n",
        "  batch_size=64,\n",
        "  validation_data=(test_images.reshape(test_images.shape[0],28,28,1), to_categorical(test_labels)),\n",
        ")"
      ],
      "execution_count": null,
      "outputs": []
    },
    {
      "cell_type": "markdown",
      "metadata": {
        "id": "pX8qk0RABu8e"
      },
      "source": [
        "##### Evaluate CNN Model"
      ]
    },
    {
      "cell_type": "code",
      "metadata": {
        "id": "HbtT_mdWBlO_"
      },
      "source": [
        "model.evaluate( \n",
        "  test_images, \n",
        "  to_categorical(test_labels)\n",
        ")\n",
        "\n",
        "# predict on the first 5 test images.\n",
        "predictions = model.predict(test_images[:5])\n",
        "\n",
        "# print our model's predictions\n",
        "print(np.argmax(predictions, axis=1)) # [7, 2, 1, 0, 4]\n",
        "\n",
        "# check our predictions against the ground truths.\n",
        "print(test_labels[:5]) # [7, 2, 1, 0, 4]"
      ],
      "execution_count": null,
      "outputs": []
    }
  ]
}